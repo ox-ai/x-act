{
 "cells": [
  {
   "cell_type": "code",
   "execution_count": 1,
   "metadata": {},
   "outputs": [],
   "source": [
    "from xact.x import xact\n",
    "\n",
    "x = xact()"
   ]
  },
  {
   "cell_type": "code",
   "execution_count": 11,
   "metadata": {},
   "outputs": [
    {
     "data": {
      "text/plain": [
       "[{'code_type': 'code-input',\n",
       "  'code': 'code-1',\n",
       "  'code_path': 'path/to/code',\n",
       "  'input_required': True,\n",
       "  'input_map': {'arg1': 'value1', 'arg2': 'value2'},\n",
       "  'output_format': 'json',\n",
       "  'description': 'Runs a code block',\n",
       "  'metadata': {},\n",
       "  'keywords': ['run', 'code']}]"
      ]
     },
     "execution_count": 11,
     "metadata": {},
     "output_type": "execute_result"
    }
   ],
   "source": [
    "x.act(\"code one\")"
   ]
  },
  {
   "cell_type": "code",
   "execution_count": 12,
   "metadata": {},
   "outputs": [
    {
     "data": {
      "text/plain": [
       "[{'code_type': 'code-input',\n",
       "  'code': 'code-1',\n",
       "  'code_path': 'path/to/code',\n",
       "  'input_required': True,\n",
       "  'input_map': {'arg1': 'value1', 'arg2': 'value2'},\n",
       "  'output_format': 'json',\n",
       "  'description': 'Runs a code block',\n",
       "  'metadata': {},\n",
       "  'keywords': ['run', 'code']}]"
      ]
     },
     "execution_count": 12,
     "metadata": {},
     "output_type": "execute_result"
    }
   ],
   "source": [
    "x.act(\"code block\")"
   ]
  },
  {
   "cell_type": "code",
   "execution_count": 4,
   "metadata": {},
   "outputs": [],
   "source": [
    "from xact.compose.types import CodeSchema\n",
    "from xact.compose.comp import xcomposer,db"
   ]
  },
  {
   "cell_type": "code",
   "execution_count": 5,
   "metadata": {},
   "outputs": [],
   "source": [
    "schema = CodeSchema(\n",
    "    code_type=\"code-input\",\n",
    "    code=\"code-1\",\n",
    "    code_path=\"path/to/code\",\n",
    "    input_required=True,\n",
    "    input_map={\"arg1\": \"value1\", \"arg2\": \"value2\"},\n",
    "    output_format=\"json\",\n",
    "    description=\"Runs a code block\",\n",
    "    metadata={},\n",
    "    keywords=[\"run\", \"code\"],\n",
    ")"
   ]
  },
  {
   "cell_type": "code",
   "execution_count": 6,
   "metadata": {},
   "outputs": [
    {
     "data": {
      "text/plain": [
       "['1db2448a519e2a0703ffed2ba09271e8ad525d00a1b248e06040d78e60e43b3d']"
      ]
     },
     "execution_count": 6,
     "metadata": {},
     "output_type": "execute_result"
    }
   ],
   "source": [
    "\n",
    "\n",
    "xcomposer.compose(schema)"
   ]
  },
  {
   "cell_type": "code",
   "execution_count": 7,
   "metadata": {},
   "outputs": [
    {
     "data": {
      "text/plain": [
       "[{'code_type': 'code-input',\n",
       "  'code': 'code-1',\n",
       "  'code_path': 'path/to/code',\n",
       "  'input_required': True,\n",
       "  'input_map': {'arg1': 'value1', 'arg2': 'value2'},\n",
       "  'output_format': 'json',\n",
       "  'description': 'Runs a code block',\n",
       "  'metadata': {},\n",
       "  'keywords': ['run', 'code']}]"
      ]
     },
     "execution_count": 7,
     "metadata": {},
     "output_type": "execute_result"
    }
   ],
   "source": [
    "xcomposer.search(\"code\")"
   ]
  },
  {
   "cell_type": "code",
   "execution_count": 8,
   "metadata": {},
   "outputs": [
    {
     "data": {
      "text/plain": [
       "'./data.oxdld.json'"
      ]
     },
     "execution_count": 8,
     "metadata": {},
     "output_type": "execute_result"
    }
   ],
   "source": [
    "db.doc.data_oxd.to_json()"
   ]
  },
  {
   "cell_type": "code",
   "execution_count": 9,
   "metadata": {},
   "outputs": [
    {
     "data": {
      "text/plain": [
       "{'db': 'xact.oxdb',\n",
       " 'db_path': PosixPath('/home/lokesh/ox-xact/xact.oxdb'),\n",
       " 'doc_name': 'index-xact',\n",
       " 'doc_path': '/home/lokesh/ox-xact/xact.oxdb/index-xact',\n",
       " 'doc_reg': {'entry': 1,\n",
       "  'vec_model': 'sentence-transformers/all-MiniLM-L6-v2'}}"
      ]
     },
     "execution_count": 9,
     "metadata": {},
     "output_type": "execute_result"
    }
   ],
   "source": [
    "db.doc.info()"
   ]
  },
  {
   "cell_type": "code",
   "execution_count": 10,
   "metadata": {},
   "outputs": [
    {
     "data": {
      "text/plain": [
       "PosixPath('/home/lokesh/ox-xact/xact.oxdb')"
      ]
     },
     "execution_count": 10,
     "metadata": {},
     "output_type": "execute_result"
    }
   ],
   "source": [
    "db.db_path"
   ]
  }
 ],
 "metadata": {
  "kernelspec": {
   "display_name": "Python 3",
   "language": "python",
   "name": "python3"
  },
  "language_info": {
   "codemirror_mode": {
    "name": "ipython",
    "version": 3
   },
   "file_extension": ".py",
   "mimetype": "text/x-python",
   "name": "python",
   "nbconvert_exporter": "python",
   "pygments_lexer": "ipython3",
   "version": "3.11.9"
  }
 },
 "nbformat": 4,
 "nbformat_minor": 2
}
