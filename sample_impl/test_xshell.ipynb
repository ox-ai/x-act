{
 "cells": [
  {
   "cell_type": "code",
   "execution_count": 1,
   "metadata": {},
   "outputs": [],
   "source": [
    "from xact.shell import xshell"
   ]
  },
  {
   "cell_type": "code",
   "execution_count": 2,
   "metadata": {},
   "outputs": [
    {
     "name": "stdout",
     "output_type": "stream",
     "text": [
      "Process ID: 90782\n",
      "info\n",
      "out :  oxdb> oxdb : \n",
      "out :  {'db': 'hosted',\n",
      "out :   'db_path': '/home/lokesh/ox-db/hosted.oxdb',\n",
      "out :   'doc_list': ['log-[09_09_2024]', 'log-[12_09_2024]', 'log-[08_09_2024]'],\n",
      "out :   'doc_name': 'log-[12_09_2024]',\n",
      "out :   'doc_path': '/home/lokesh/ox-db/hosted.oxdb/log-[12_09_2024]',\n",
      "out :   'vec_model': 'sentence-transformers/all-MiniLM-L6-v2'}\n",
      "doc info\n",
      "out :  oxdb> oxdb : \n",
      "out :  {'db': 'hosted.oxdb',\n",
      "out :   'db_path': '/home/lokesh/ox-db/hosted.oxdb',\n",
      "out :   'doc_name': 'log-[12_09_2024]',\n",
      "out :   'doc_path': '/home/lokesh/ox-db/hosted.oxdb/log-[12_09_2024]',\n",
      "out :   'doc_reg': {'entry': 0, 'vec_model': 'sentence-transformers/all-MiniLM-L6-v2'}}\n",
      "oxdb> oxdb : \n",
      "{'db': 'hosted.oxdb',\n",
      " 'db_path': '/home/lokesh/ox-db/hosted.oxdb',\n",
      " 'doc_name': 'log-[12_09_2024]',\n",
      " 'doc_path': '/home/lokesh/ox-db/hosted.oxdb/log-[12_09_2024]',\n",
      " 'doc_reg': {'entry': 0, 'vec_model': 'sentence-transformers/all-MiniLM-L6-v2'}}\n",
      "\n"
     ]
    }
   ],
   "source": [
    "ps = xshell()\n",
    "ps.end_list = [\"}\", \")\"]\n",
    "ps.start(\"oxdb.shell\")\n",
    "ps.send(\"info\")\n",
    "res = ps.send(\"doc info\")\n",
    "\n",
    "print(res)"
   ]
  },
  {
   "cell_type": "code",
   "execution_count": null,
   "metadata": {},
   "outputs": [
    {
     "name": "stdout",
     "output_type": "stream",
     "text": [
      "Process 166451 terminated.\n"
     ]
    }
   ],
   "source": [
    "ps.kill()"
   ]
  },
  {
   "cell_type": "code",
   "execution_count": null,
   "metadata": {},
   "outputs": [
    {
     "name": "stdout",
     "output_type": "stream",
     "text": [
      "Process ID: 26300\n",
      "print(\"Hello, World! end\")\n",
      "\n",
      "Hello, World! end\n",
      "print(\"Hello, World! end\")\n",
      "\n",
      "Hello, World! end\n"
     ]
    }
   ],
   "source": [
    "sh = xshell()\n",
    "sh.end_list = [\"end\"]\n",
    "sh.start([\"python\", \"-i\"])\n",
    "sh.send('print(\"Hello, World! end\")\\n')\n",
    "sh.send('print(\"Hello, World! end\")\\n')\n",
    "sh.kill()"
   ]
  },
  {
   "cell_type": "code",
   "execution_count": null,
   "metadata": {},
   "outputs": [
    {
     "name": "stdout",
     "output_type": "stream",
     "text": [
      "Process ID: 26224\n",
      "oxdb> oxdb : \n",
      "{'db': 'hosted',\n",
      " 'db_path': '/home/lokesh/ox-db/hosted.oxdb',\n",
      " 'doc_list': ['log-[08_09_2024]'],\n",
      " 'doc_name': 'log-[08_09_2024]',\n",
      " 'doc_path': '/home/lokesh/ox-db/hosted.oxdb/log-[08_09_2024]',\n",
      " 'vec_model': 'sentence-transformers/all-MiniLM-L6-v2'}\n",
      "oxdb> \n",
      "Exiting shell...\n",
      "Initiating Clean Up\n",
      "Clean Up Compelete\n",
      "\n"
     ]
    }
   ],
   "source": [
    "ps = xshell()\n",
    "ps.end_list = [\"}\", \")\"]\n",
    "ps.start(\"oxdb.shell\")\n",
    "res = ps.commune(\"info\")\n",
    "print(res)\n",
    "\n",
    "# ps.kill()"
   ]
  },
  {
   "cell_type": "code",
   "execution_count": null,
   "metadata": {},
   "outputs": [
    {
     "name": "stdout",
     "output_type": "stream",
     "text": [
      "oxdb : \n",
      "{'db': 'hosted',\n",
      " 'db_path': '/home/lokesh/ox-db/hosted.oxdb',\n",
      " 'doc_list': ['log-[08_09_2024]'],\n",
      " 'doc_name': 'log-[08_09_2024]',\n",
      " 'doc_path': '/home/lokesh/ox-db/hosted.oxdb/log-[08_09_2024]',\n",
      " 'vec_model': 'sentence-transformers/all-MiniLM-L6-v2'}\n",
      "\n"
     ]
    },
    {
     "data": {
      "text/plain": [
       "\"oxdb : \\n{'db': 'hosted',\\n 'db_path': '/home/lokesh/ox-db/hosted.oxdb',\\n 'doc_list': ['log-[08_09_2024]'],\\n 'doc_name': 'log-[08_09_2024]',\\n 'doc_path': '/home/lokesh/ox-db/hosted.oxdb/log-[08_09_2024]',\\n 'vec_model': 'sentence-transformers/all-MiniLM-L6-v2'}\\n\""
      ]
     },
     "execution_count": 2,
     "metadata": {},
     "output_type": "execute_result"
    }
   ],
   "source": [
    "ps = xshell()\n",
    "ps.run([\"oxdb.shell\", \"info\"])"
   ]
  }
 ],
 "metadata": {
  "kernelspec": {
   "display_name": "Python 3",
   "language": "python",
   "name": "python3"
  },
  "language_info": {
   "codemirror_mode": {
    "name": "ipython",
    "version": 3
   },
   "file_extension": ".py",
   "mimetype": "text/x-python",
   "name": "python",
   "nbconvert_exporter": "python",
   "pygments_lexer": "ipython3",
   "version": "3.11.9"
  }
 },
 "nbformat": 4,
 "nbformat_minor": 2
}
